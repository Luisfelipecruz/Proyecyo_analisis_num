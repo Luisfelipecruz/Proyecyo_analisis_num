{
 "cells": [
  {
   "cell_type": "code",
   "execution_count": 2,
   "id": "dramatic-forty",
   "metadata": {},
   "outputs": [],
   "source": [
    "#geemap.update_package()"
   ]
  },
  {
   "cell_type": "code",
   "execution_count": 3,
   "id": "numeric-artwork",
   "metadata": {},
   "outputs": [
    {
     "name": "stdout",
     "output_type": "stream",
     "text": [
      "cartopy is not installed. Please see https://scitools.org.uk/cartopy/docs/latest/installing.html#installing for instructions on how to install cartopy.\n",
      "\n",
      "The easiest way to install cartopy is using conda: conda install -c conda-forge cartopy\n",
      "Populating the interactive namespace from numpy and matplotlib\n"
     ]
    }
   ],
   "source": [
    "import os\n",
    "import ee\n",
    "import geemap\n",
    "from geemap import cartoee\n",
    "%pylab inline"
   ]
  },
  {
   "cell_type": "code",
   "execution_count": 4,
   "id": "accompanied-bones",
   "metadata": {},
   "outputs": [],
   "source": [
    "Map = geemap.Map()"
   ]
  },
  {
   "cell_type": "code",
   "execution_count": 5,
   "id": "operational-sender",
   "metadata": {},
   "outputs": [],
   "source": [
    "roi = ee.Geometry.Polygon(\n",
    "    [[[-73.20499420166016, 7.035816390014566],\n",
    "      [-73.05839538574219, 7.035816390014566],\n",
    "      [-73.05839538574219, 7.158806222674093],\n",
    "      [-73.20499420166016, 7.158806222674093],\n",
    "      [-73.20499420166016, 7.035816390014566]]], None, False)        "
   ]
  },
  {
   "cell_type": "code",
   "execution_count": 6,
   "id": "negative-grain",
   "metadata": {},
   "outputs": [],
   "source": [
    "collection = geemap.landsat_timeseries(roi=roi, start_year=2013, end_year=2020, start_date='01-10', end_date='12-20')"
   ]
  },
  {
   "cell_type": "code",
   "execution_count": 7,
   "id": "functional-ceremony",
   "metadata": {},
   "outputs": [],
   "source": [
    "video_args = {\n",
    "  'dimensions': 768,\n",
    "  'region': roi,\n",
    "  'framesPerSecond': 10,\n",
    "  'bands': ['NIR', 'SWIR1', 'Blue'],\n",
    "  'min': 0,\n",
    "  'max': 4000,\n",
    "  'gamma': [1, 1, 1]\n",
    "}"
   ]
  },
  {
   "cell_type": "code",
   "execution_count": 8,
   "id": "experimental-thermal",
   "metadata": {},
   "outputs": [
    {
     "data": {
      "application/vnd.jupyter.widget-view+json": {
       "model_id": "8d87c0c645aa41e7a48010add02a9687",
       "version_major": 2,
       "version_minor": 0
      },
      "text/plain": [
       "Output()"
      ]
     },
     "metadata": {},
     "output_type": "display_data"
    }
   ],
   "source": [
    "out_gif = os.path.join(os.path.expanduser('~'), 'Downloads/output2.gif')\n",
    "saved_gif = os.path.join(os.path.expanduser('~'), 'Downloads/landsat_ts.gif')\n",
    "\n",
    "geemap.add_text_to_gif(saved_gif, out_gif, xy=('32%', '92%'), text_sequence='Landsat 8 Healthy Vegetation Bands(5-6-2)',font_size=25, font_color='white')\n",
    "geemap.add_text_to_gif(out_gif, out_gif, xy=('5%','5%'),text_sequence=2013, font_size=40, font_color='white',duration=600)\n",
    "geemap.show_image(out_gif)"
   ]
  },
  {
   "cell_type": "code",
   "execution_count": 9,
   "id": "affecting-theorem",
   "metadata": {},
   "outputs": [
    {
     "name": "stdout",
     "output_type": "stream",
     "text": [
      "Generating URL...\n",
      "Downloading GIF image from https://earthengine.googleapis.com/v1alpha/projects/earthengine-legacy/videoThumbnails/da3841fe99f2a8255020341f0ff8b674-33287313060ec9920bd0c76f498fe87a:getPixels\n",
      "Please wait ...\n",
      "The GIF image has been saved to: C:\\Users\\Sg\\Downloads\\output2.gif\n"
     ]
    }
   ],
   "source": [
    "geemap.download_ee_video(collection, video_args, out_gif)"
   ]
  },
  {
   "cell_type": "code",
   "execution_count": null,
   "id": "superior-jacksonville",
   "metadata": {},
   "outputs": [],
   "source": []
  }
 ],
 "metadata": {
  "kernelspec": {
   "display_name": "Python 3",
   "language": "python",
   "name": "python3"
  },
  "language_info": {
   "codemirror_mode": {
    "name": "ipython",
    "version": 3
   },
   "file_extension": ".py",
   "mimetype": "text/x-python",
   "name": "python",
   "nbconvert_exporter": "python",
   "pygments_lexer": "ipython3",
   "version": "3.8.3"
  }
 },
 "nbformat": 4,
 "nbformat_minor": 5
}
